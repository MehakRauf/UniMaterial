{
 "cells": [
  {
   "cell_type": "code",
   "execution_count": 3,
   "id": "af689d82-68a2-440f-b732-9f31d54af435",
   "metadata": {},
   "outputs": [
    {
     "name": "stdout",
     "output_type": "stream",
     "text": [
      "            Name  Age  Gender Blood Type Medical Condition Date of Admission  \\\n",
      "0  Bobby JacksOn   30    Male         B-            Cancer        2024-01-31   \n",
      "1   LesLie TErRy   62    Male         A+           Obesity        2019-08-20   \n",
      "2    DaNnY sMitH   76  Female         A-           Obesity        2022-09-22   \n",
      "3   andrEw waTtS   28  Female         O+          Diabetes        2020-11-18   \n",
      "4  adrIENNE bEll   43  Female        AB+            Cancer        2022-09-19   \n",
      "\n",
      "             Doctor                    Hospital Insurance Provider  \\\n",
      "0     Matthew Smith             Sons and Miller         Blue Cross   \n",
      "1   Samantha Davies                     Kim Inc           Medicare   \n",
      "2  Tiffany Mitchell                    Cook PLC              Aetna   \n",
      "3       Kevin Wells  Hernandez Rogers and Vang,           Medicare   \n",
      "4    Kathleen Hanna                 White-White              Aetna   \n",
      "\n",
      "   Billing Amount  Room Number Admission Type Discharge Date   Medication  \\\n",
      "0    18856.281306          328         Urgent     2024-02-02  Paracetamol   \n",
      "1    33643.327287          265      Emergency     2019-08-26    Ibuprofen   \n",
      "2    27955.096079          205      Emergency     2022-10-07      Aspirin   \n",
      "3    37909.782410          450       Elective     2020-12-18    Ibuprofen   \n",
      "4    14238.317814          458         Urgent     2022-10-09   Penicillin   \n",
      "\n",
      "   Test Results  \n",
      "0        Normal  \n",
      "1  Inconclusive  \n",
      "2        Normal  \n",
      "3      Abnormal  \n",
      "4      Abnormal  \n"
     ]
    }
   ],
   "source": [
    "import pandas as pd\n",
    "import numpy as np\n",
    "\n",
    "# Load the dataset\n",
    "df = pd.read_csv('healthcare_dataset.csv')\n",
    "\n",
    "# Display the first few rows\n",
    "print(df.head())"
   ]
  },
  {
   "cell_type": "code",
   "execution_count": 6,
   "id": "f90c71bc-3e63-4cb8-afe2-d126beedf5bd",
   "metadata": {},
   "outputs": [
    {
     "name": "stdout",
     "output_type": "stream",
     "text": [
      "Name                  0\n",
      "Age                   0\n",
      "Gender                0\n",
      "Blood Type            0\n",
      "Medical Condition     0\n",
      "Date of Admission     0\n",
      "Doctor                0\n",
      "Hospital              0\n",
      "Insurance Provider    0\n",
      "Billing Amount        0\n",
      "Room Number           0\n",
      "Admission Type        0\n",
      "Discharge Date        0\n",
      "Medication            0\n",
      "Test Results          0\n",
      "dtype: int64\n"
     ]
    }
   ],
   "source": [
    "# Check for missing values\n",
    "print(df.isnull().sum())\n",
    "\n",
    "# If there are missing values, handle them accordingly\n",
    "# For demonstration, let's fill missing 'chol' values with the median\n",
    "if df['Test Results'].isnull().sum() > 0:\n",
    "    df['Test Results'].fillna(df['Test Results'].median(), inplace=True)\n",
    "\n",
    "# Drop any rows with remaining missing values\n",
    "df.dropna(inplace=True)\n"
   ]
  },
  {
   "cell_type": "code",
   "execution_count": 7,
   "id": "8bab516b-dd4c-4a07-a2ca-7a2315acce11",
   "metadata": {},
   "outputs": [
    {
     "name": "stdout",
     "output_type": "stream",
     "text": [
      "            Name  Age  Gender Blood Type Medical Condition Date of Admission  \\\n",
      "0  Bobby JacksOn   30    Male         B-            Cancer        2024-01-31   \n",
      "1   LesLie TErRy   62    Male         A+           Obesity        2019-08-20   \n",
      "2    DaNnY sMitH   76  Female         A-           Obesity        2022-09-22   \n",
      "3   andrEw waTtS   28  Female         O+          Diabetes        2020-11-18   \n",
      "4  adrIENNE bEll   43  Female        AB+            Cancer        2022-09-19   \n",
      "\n",
      "             Doctor                    Hospital Insurance Provider  \\\n",
      "0     Matthew Smith             Sons and Miller         Blue Cross   \n",
      "1   Samantha Davies                     Kim Inc           Medicare   \n",
      "2  Tiffany Mitchell                    Cook PLC              Aetna   \n",
      "3       Kevin Wells  Hernandez Rogers and Vang,           Medicare   \n",
      "4    Kathleen Hanna                 White-White              Aetna   \n",
      "\n",
      "   Billing Amount  Room Number Admission Type Discharge Date   Medication  \\\n",
      "0    18856.281306          328         Urgent     2024-02-02  Paracetamol   \n",
      "1    33643.327287          265      Emergency     2019-08-26    Ibuprofen   \n",
      "2    27955.096079          205      Emergency     2022-10-07      Aspirin   \n",
      "3    37909.782410          450       Elective     2020-12-18    Ibuprofen   \n",
      "4    14238.317814          458         Urgent     2022-10-09   Penicillin   \n",
      "\n",
      "   Test Results  \n",
      "0        Normal  \n",
      "1  Inconclusive  \n",
      "2        Normal  \n",
      "3      Abnormal  \n",
      "4      Abnormal  \n",
      "<class 'pandas.core.frame.DataFrame'>\n",
      "RangeIndex: 55500 entries, 0 to 55499\n",
      "Data columns (total 15 columns):\n",
      " #   Column              Non-Null Count  Dtype  \n",
      "---  ------              --------------  -----  \n",
      " 0   Name                55500 non-null  object \n",
      " 1   Age                 55500 non-null  int64  \n",
      " 2   Gender              55500 non-null  object \n",
      " 3   Blood Type          55500 non-null  object \n",
      " 4   Medical Condition   55500 non-null  object \n",
      " 5   Date of Admission   55500 non-null  object \n",
      " 6   Doctor              55500 non-null  object \n",
      " 7   Hospital            55500 non-null  object \n",
      " 8   Insurance Provider  55500 non-null  object \n",
      " 9   Billing Amount      55500 non-null  float64\n",
      " 10  Room Number         55500 non-null  int64  \n",
      " 11  Admission Type      55500 non-null  object \n",
      " 12  Discharge Date      55500 non-null  object \n",
      " 13  Medication          55500 non-null  object \n",
      " 14  Test Results        55500 non-null  object \n",
      "dtypes: float64(1), int64(2), object(12)\n",
      "memory usage: 6.4+ MB\n",
      "None\n",
      "                Age  Billing Amount   Room Number\n",
      "count  55500.000000    55500.000000  55500.000000\n",
      "mean      51.539459    25539.316097    301.134829\n",
      "std       19.602454    14211.454431    115.243069\n",
      "min       13.000000    -2008.492140    101.000000\n",
      "25%       35.000000    13241.224652    202.000000\n",
      "50%       52.000000    25538.069376    302.000000\n",
      "75%       68.000000    37820.508436    401.000000\n",
      "max       89.000000    52764.276736    500.000000\n"
     ]
    }
   ],
   "source": [
    "print(df.head())           # First 5 rows\n",
    "print(df.info())           # Data types and non-null counts\n",
    "print(df.describe())       # Summary stats for numeric columns\n"
   ]
  },
  {
   "cell_type": "code",
   "execution_count": 8,
   "id": "27bc47ff-7f52-4080-a9f1-2abe33e3dc2a",
   "metadata": {},
   "outputs": [
    {
     "name": "stdout",
     "output_type": "stream",
     "text": [
      "                    Name  Age  Gender\n",
      "0          Bobby JacksOn   30    Male\n",
      "1           LesLie TErRy   62    Male\n",
      "2            DaNnY sMitH   76  Female\n",
      "3           andrEw waTtS   28  Female\n",
      "4          adrIENNE bEll   43  Female\n",
      "...                  ...  ...     ...\n",
      "55495  eLIZABeTH jaCkSOn   42  Female\n",
      "55496         KYle pEREz   61  Female\n",
      "55497       HEATher WaNG   38  Female\n",
      "55498     JENniFER JOneS   43    Male\n",
      "55499       jAMES GARCiA   53  Female\n",
      "\n",
      "[55500 rows x 3 columns]\n"
     ]
    }
   ],
   "source": [
    "# Basic pandas operation\n",
    "print(df[['Name', 'Age', 'Gender']]) # to select specific columns\n"
   ]
  },
  {
   "cell_type": "code",
   "execution_count": 9,
   "id": "86ef7ceb-971e-45d6-a7ec-aaec65c5837c",
   "metadata": {},
   "outputs": [
    {
     "name": "stdout",
     "output_type": "stream",
     "text": [
      "                   Name  Age  Gender Blood Type Medical Condition  \\\n",
      "1          LesLie TErRy   62    Male         A+           Obesity   \n",
      "2           DaNnY sMitH   76  Female         A-           Obesity   \n",
      "8       JASmINe aGuIlaR   82    Male        AB+            Asthma   \n",
      "9      ChRISTopher BerG   58  Female        AB-            Cancer   \n",
      "10     mIchElLe daniELs   72    Male         O+            Cancer   \n",
      "...                 ...  ...     ...        ...               ...   \n",
      "55492  LAuREn MCcormIcK   51    Male         O+         Arthritis   \n",
      "55493      gLoRIA BOWen   57  Female         B-         Arthritis   \n",
      "55494     JEssIcA WHiTe   67    Male         O+         Arthritis   \n",
      "55496        KYle pEREz   61  Female        AB-           Obesity   \n",
      "55499      jAMES GARCiA   53  Female         O+         Arthritis   \n",
      "\n",
      "      Date of Admission            Doctor         Hospital Insurance Provider  \\\n",
      "1            2019-08-20   Samantha Davies          Kim Inc           Medicare   \n",
      "2            2022-09-22  Tiffany Mitchell         Cook PLC              Aetna   \n",
      "8            2020-07-01   Daniel Ferguson    Sons Rich and              Cigna   \n",
      "9            2021-05-23       Heather Day   Padilla-Walker   UnitedHealthcare   \n",
      "10           2020-04-19       John Duncan  Schaefer-Porter           Medicare   \n",
      "...                 ...               ...              ...                ...   \n",
      "55492        2020-12-06      Kevin Flores      Inc Barnett              Cigna   \n",
      "55493        2022-07-23    Lucas Thompson   Group Gonzalez           Medicare   \n",
      "55494        2023-12-11      Jesus Jordan    Miller-Harris           Medicare   \n",
      "55496        2020-01-23   Taylor Sullivan     Tucker-Moyer              Cigna   \n",
      "55499        2024-04-02     Dennis Warren   Henry Sons and              Aetna   \n",
      "\n",
      "       Billing Amount  Room Number Admission Type Discharge Date   Medication  \\\n",
      "1        33643.327287          265      Emergency     2019-08-26    Ibuprofen   \n",
      "2        27955.096079          205      Emergency     2022-10-07      Aspirin   \n",
      "8        50119.222792          316       Elective     2020-07-14      Aspirin   \n",
      "9        19784.631062          249       Elective     2021-06-22  Paracetamol   \n",
      "10       12576.795609          394         Urgent     2020-04-22  Paracetamol   \n",
      "...               ...          ...            ...            ...          ...   \n",
      "55492     2588.150832          289      Emergency     2020-12-12  Paracetamol   \n",
      "55493     3954.853764          463      Emergency     2022-08-18      Aspirin   \n",
      "55494    42535.301234          378      Emergency     2024-01-04    Ibuprofen   \n",
      "55496    31457.797307          316       Elective     2020-02-01      Aspirin   \n",
      "55499     4010.134172          448         Urgent     2024-04-29    Ibuprofen   \n",
      "\n",
      "       Test Results  \n",
      "1      Inconclusive  \n",
      "2            Normal  \n",
      "8          Abnormal  \n",
      "9      Inconclusive  \n",
      "10           Normal  \n",
      "...             ...  \n",
      "55492        Normal  \n",
      "55493      Abnormal  \n",
      "55494        Normal  \n",
      "55496        Normal  \n",
      "55499      Abnormal  \n",
      "\n",
      "[28667 rows x 15 columns]\n"
     ]
    }
   ],
   "source": [
    "# filter patients older than 50\n",
    "older_patients = df[df['Age'] > 50]\n",
    "print(older_patients)"
   ]
  },
  {
   "cell_type": "code",
   "execution_count": 10,
   "id": "fdbf28b5-c0ea-48c3-a3dc-2cbbab408995",
   "metadata": {},
   "outputs": [
    {
     "name": "stdout",
     "output_type": "stream",
     "text": [
      "Gender\n",
      "Male      27774\n",
      "Female    27726\n",
      "Name: count, dtype: int64\n"
     ]
    }
   ],
   "source": [
    "# count unique values in gender\n",
    "print(df['Gender'].value_counts())"
   ]
  },
  {
   "cell_type": "code",
   "execution_count": 11,
   "id": "be0d3343-9755-49fc-86eb-83c7a0c296f0",
   "metadata": {},
   "outputs": [
    {
     "name": "stdout",
     "output_type": "stream",
     "text": [
      "Hospital\n",
      "Abbott Inc                       38052.041917\n",
      "Abbott Ltd                       29877.586483\n",
      "Abbott Moore and Williams,       24799.596339\n",
      "Abbott and Thompson, Sullivan    16738.569765\n",
      "Abbott, Peters and Hoffman       18842.396863\n",
      "                                     ...     \n",
      "and Zimmerman Sons               32706.652625\n",
      "and Zuniga Davis Carlson,        42867.041298\n",
      "and Zuniga Francis Peterson,     33689.630726\n",
      "and Zuniga Sons                  33950.170483\n",
      "and Zuniga Thompson, Blake       22067.428763\n",
      "Name: Billing Amount, Length: 39876, dtype: float64\n"
     ]
    }
   ],
   "source": [
    "# Group by 'Hospital' and get average billing\n",
    "avg_billing = df.groupby('Hospital')['Billing Amount'].mean()\n",
    "print(avg_billing)"
   ]
  },
  {
   "cell_type": "code",
   "execution_count": 12,
   "id": "05207e42-beb0-4b91-8a38-25e5d354ba63",
   "metadata": {},
   "outputs": [
    {
     "name": "stdout",
     "output_type": "stream",
     "text": [
      "                    Name  Age  Gender Blood Type Medical Condition  \\\n",
      "53825      mIchaeL POtTs   89    Male         A+      Hypertension   \n",
      "52857    THomAs PHIllIpS   89  Female         A+      Hypertension   \n",
      "52372    DeBORah McBrIdE   89  Female         O+           Obesity   \n",
      "54044  MiChAEL DOmINGuEz   89    Male         O+            Cancer   \n",
      "54813  JerEmY hArdIN JR.   89    Male         A+          Diabetes   \n",
      "\n",
      "      Date of Admission          Doctor                     Hospital  \\\n",
      "53825        2023-01-19     Mary Vaughn  and Perez, Bennett Townsend   \n",
      "52857        2022-05-22      Mark White     and Martin, Davidson Cox   \n",
      "52372        2021-05-28   Robert Garcia      and Miller, Olson Olson   \n",
      "54044        2021-09-07   Bridget Irwin                    PLC White   \n",
      "54813        2019-11-05  Willie Stevens                 Gray-Solomon   \n",
      "\n",
      "      Insurance Provider  Billing Amount  Room Number Admission Type  \\\n",
      "53825              Cigna     9542.739709          289      Emergency   \n",
      "52857              Cigna    48274.348627          332         Urgent   \n",
      "52372              Cigna     5692.907188          166       Elective   \n",
      "54044              Aetna     7628.951322          363       Elective   \n",
      "54813              Cigna     7242.641277          113       Elective   \n",
      "\n",
      "      Discharge Date   Medication  Test Results  \n",
      "53825     2023-01-28  Paracetamol      Abnormal  \n",
      "52857     2022-05-26   Penicillin  Inconclusive  \n",
      "52372     2021-06-13  Paracetamol      Abnormal  \n",
      "54044     2021-09-24      Aspirin      Abnormal  \n",
      "54813     2019-11-28   Penicillin        Normal  \n"
     ]
    }
   ],
   "source": [
    "# Sort by age\n",
    "sorted_df = df.sort_values(by='Age', ascending=False)\n",
    "print(sorted_df.head())"
   ]
  },
  {
   "cell_type": "code",
   "execution_count": null,
   "id": "df9d61a1-083d-4539-9b9d-f60b5ee6bdad",
   "metadata": {},
   "outputs": [],
   "source": [
    "# Apply NumPy Operations"
   ]
  },
  {
   "cell_type": "code",
   "execution_count": 13,
   "id": "813bf6ad-e05d-4cb4-a816-8da7d9fdb9f5",
   "metadata": {},
   "outputs": [
    {
     "name": "stdout",
     "output_type": "stream",
     "text": [
      "[18856.28130598 33643.32728658 27955.09607884 ... 27620.76471743\n",
      " 32451.09235849  4010.13417164]\n"
     ]
    }
   ],
   "source": [
    "# Convert 'Billing Amount' to a NumPy array\n",
    "billing_array = df['Billing Amount'].to_numpy()\n",
    "print(billing_array)"
   ]
  },
  {
   "cell_type": "code",
   "execution_count": 14,
   "id": "7f345d37-14e1-47c3-a6f4-29cbe397ecf0",
   "metadata": {},
   "outputs": [
    {
     "name": "stdout",
     "output_type": "stream",
     "text": [
      "Max Billing: 52764.276736469175\n",
      "Min Billing: -2008.4921398591305\n",
      "Average Billing: 25539.316097211795\n"
     ]
    }
   ],
   "source": [
    "# Find max, min, mean billing amount\n",
    "\n",
    "print(\"Max Billing:\", np.max(billing_array))\n",
    "print(\"Min Billing:\", np.min(billing_array))\n",
    "print(\"Average Billing:\", np.mean(billing_array))"
   ]
  },
  {
   "cell_type": "code",
   "execution_count": 15,
   "id": "f2e2ef04-9a47-47ac-b237-71251109c846",
   "metadata": {},
   "outputs": [
    {
     "name": "stdout",
     "output_type": "stream",
     "text": [
      "   Billing Amount  Billing_Normalized\n",
      "0    18856.281306            0.380933\n",
      "1    33643.327287            0.650904\n",
      "2    27955.096079            0.547053\n",
      "3    37909.782410            0.728798\n",
      "4    14238.317814            0.296622\n"
     ]
    }
   ],
   "source": [
    "# Normalize the 'Billing Amount' column (0 to 1 scale)\n",
    "\n",
    "df['Billing_Normalized'] = (billing_array - np.min(billing_array)) / (np.max(billing_array) - np.min(billing_array))\n",
    "print(df[['Billing Amount', 'Billing_Normalized']].head())"
   ]
  },
  {
   "cell_type": "code",
   "execution_count": 16,
   "id": "e66d366b-8db0-447f-8d04-8239376c56f7",
   "metadata": {},
   "outputs": [
    {
     "name": "stdout",
     "output_type": "stream",
     "text": [
      "            Name  Age Age Group\n",
      "0  Bobby JacksOn   30     Adult\n",
      "1   LesLie TErRy   62    Senior\n",
      "2    DaNnY sMitH   76    Senior\n",
      "3   andrEw waTtS   28     Adult\n",
      "4  adrIENNE bEll   43     Adult\n"
     ]
    }
   ],
   "source": [
    "# Add a new column with NumPy logic\n",
    "# Categorize patients based on age\n",
    "\n",
    "df['Age Group'] = np.where(df['Age'] < 18, 'Child',\n",
    "                    np.where(df['Age'] < 45, 'Adult', 'Senior'))\n",
    "print(df[['Name', 'Age', 'Age Group']].head())"
   ]
  },
  {
   "cell_type": "code",
   "execution_count": null,
   "id": "7532b0e7-ba51-48b5-a1f4-dbd8f569f3c3",
   "metadata": {},
   "outputs": [],
   "source": []
  }
 ],
 "metadata": {
  "kernelspec": {
   "display_name": "Python 3 (ipykernel)",
   "language": "python",
   "name": "python3"
  },
  "language_info": {
   "codemirror_mode": {
    "name": "ipython",
    "version": 3
   },
   "file_extension": ".py",
   "mimetype": "text/x-python",
   "name": "python",
   "nbconvert_exporter": "python",
   "pygments_lexer": "ipython3",
   "version": "3.12.1"
  }
 },
 "nbformat": 4,
 "nbformat_minor": 5
}
